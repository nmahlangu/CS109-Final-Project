{
 "metadata": {
  "name": "",
  "signature": "sha256:759968099ab07469758a45c039d79bbdaa5a6a54eb41b448af21561393111433"
 },
 "nbformat": 3,
 "nbformat_minor": 0,
 "worksheets": [
  {
   "cells": [
    {
     "cell_type": "heading",
     "level": 1,
     "metadata": {},
     "source": [
      "Overview and Motivation"
     ]
    },
    {
     "cell_type": "markdown",
     "metadata": {},
     "source": [
      "All of the members on our team are interested poker, one of our group members has played over 20,000 hands of poker since the start of this semester. Online, it can be difficult to understand which information is credible because popular opinion is fickle and subject to biases, like mob mentality. Therefore, we wanted to try and understand how we could play better poker by doing our own analysis. We collected data from past <a href=\"http://poker.cs.ualberta.ca/irc_poker_database.html\">IRC poker matches</a> to understand how suboptimal play by human beings effects expected value and also to test out how different popular strategies fair in the real world. "
     ]
    },
    {
     "cell_type": "heading",
     "level": 1,
     "metadata": {},
     "source": [
      "Related Work"
     ]
    },
    {
     "cell_type": "markdown",
     "metadata": {},
     "source": [
      "The summer before coming to Harvard one of our team members read a book called \"The Quants\" by Scott Peterson. The book is about quantitative finance and the introduction details a yearly poker game held between 5 of the largest hedge fund managers in the world. We thought it would be fun to do a project which would simulare how one might prepare for a high stakes poker game like that now that we have the new found ability to analyse data in python. "
     ]
    },
    {
     "cell_type": "heading",
     "level": 1,
     "metadata": {},
     "source": [
      "Initial Questions"
     ]
    },
    {
     "cell_type": "markdown",
     "metadata": {},
     "source": [
      "In our analysis, we want to answer the following questions:\n",
      "\n",
      "1.) How important is your position in poker in terms of you expected profit per hand?\n",
      "\n",
      "2.) Is it profitable to continuation bet and three bet preflop? How profitable?\n",
      "\n",
      "3.) We can calculate the probabilities that each hand wins. But given that people play suboptimally, what are the most profitable hands?\n",
      "\n",
      "4.) Are there certain playing styles that people adopt, and are these styles easily observable in the players' betting patterns? Is one style significantly more profitable than another?\n"
     ]
    },
    {
     "cell_type": "heading",
     "level": 1,
     "metadata": {},
     "source": [
      "Table of Contents"
     ]
    },
    {
     "cell_type": "markdown",
     "metadata": {},
     "source": [
      "0) Data Wrangle \n",
      "\n",
      "1) Build DataFrames \n",
      "\n",
      "2) Exploratory Statistics\n",
      "    * 2.1: Statistics By Feature\n",
      "    * 2.2: The Importance of Position\n",
      "    * 2.3: Expected Value of Common Strategies\n",
      "    * 2.4: Theoretical Hand Strength vs. Hand Expected Values\n",
      "3) Cluster and Regression\n",
      "    * 3.1: Clustering\n",
      "    * 3.2: Boxplots of PnLs by Cluster\n",
      "    * 3.3: Trends with Number of Players\n",
      "    * 3.4: T-Test for Aggressive vs. Passive Players"
     ]
    },
    {
     "cell_type": "heading",
     "level": 1,
     "metadata": {},
     "source": [
      "Github"
     ]
    },
    {
     "cell_type": "markdown",
     "metadata": {},
     "source": [
      "<a href=\"https://github.com/userfog/109FinalProj\">109 Final Project Repository</a>"
     ]
    },
    {
     "cell_type": "heading",
     "level": 3,
     "metadata": {},
     "source": [
      "Import Modules"
     ]
    },
    {
     "cell_type": "code",
     "collapsed": false,
     "input": [
      "%matplotlib inline \n",
      "import pandas as pd\n",
      "import numpy as np\n",
      "from scipy.stats import ttest_ind\n",
      "import matplotlib.pyplot as plt\n",
      "import collections\n",
      "import pprint\n",
      "import StringIO as sio\n",
      "import io\n",
      "import pylab\n",
      "import itertools\n",
      "import sklearn\n",
      "import sklearn.datasets\n",
      "import sklearn.cross_validation\n",
      "import sklearn.decomposition\n",
      "import sklearn.grid_search\n",
      "import sklearn.neighbors\n",
      "import sklearn.metrics\n",
      "from sklearn import cluster\n",
      "from sklearn.cluster import AgglomerativeClustering\n",
      "import seaborn as sns"
     ],
     "language": "python",
     "metadata": {},
     "outputs": [],
     "prompt_number": 49
    },
    {
     "cell_type": "heading",
     "level": 1,
     "metadata": {},
     "source": [
      "0: Data Wrangle"
     ]
    },
    {
     "cell_type": "markdown",
     "metadata": {},
     "source": [
      "Note, this code is here in case you would like to re-generate the tables but this\n",
      "is unnecessary. This code also takes a while to run, you are better off leaving\n",
      "the data as it is :)."
     ]
    },
    {
     "cell_type": "heading",
     "level": 3,
     "metadata": {},
     "source": [
      "Constants"
     ]
    },
    {
     "cell_type": "code",
     "collapsed": false,
     "input": [
      "pp = pprint.PrettyPrinter(indent=8)\n",
      "\n",
      "DATA_ROOT = \"./\"\n",
      "\n",
      "DATA_HROSTER = DATA_ROOT + \"hroster\"\n",
      "\n",
      "DATA_HDB = DATA_ROOT + \"hdb\"\n",
      "\n",
      "DATA_PLAYER_ROOT = DATA_ROOT + \"pdb/\"\n",
      "\n",
      "INVALID_CARD = \"XX\"\n",
      "\n",
      "COLUMNS_NO_SHOWDOWN = 11\n",
      "\n",
      "COLUMNS_SHOWDOWN = 13\n",
      "\n",
      "DEBUG = True\n",
      "\n",
      "fp = open(\"log.txt\", \"w\")\n",
      "\n",
      "\n",
      "# Columns\n",
      "hroster_columns = [\"timestamp\", \"num_players\", \"name1\", \"name2\", \"name3\", \"name4\", \"name5\", \"name6\", \"name7\", \"name8\", \"name9\", \"name10\"]\n",
      "hand_columns = [\"timestamp\", \"dealer\", \"hand\", \"play\", \"flop\", \"turn\", \"river\", \"showdn\", \"board\"]\n",
      "player_columns = [\"player\", \"timestamp\", \"play\", \"pos\", \"prflop\", \"flop\", \"turn\", \"river\", \"bankroll\", \"action\", \"winnings\", \"c1\", \"c2\"]\n"
     ],
     "language": "python",
     "metadata": {},
     "outputs": [],
     "prompt_number": 50
    },
    {
     "cell_type": "heading",
     "level": 3,
     "metadata": {},
     "source": [
      "Convert Database to CSV files by Table Size"
     ]
    },
    {
     "cell_type": "code",
     "collapsed": false,
     "input": [
      "\"\"\"\n",
      "Input: Player Name\n",
      "Output: File containing player's history\n",
      "\"\"\"\n",
      "def name_to_file(name):\n",
      "    return DATA_PLAYER_ROOT + \"pdb.\" + name\n",
      "\n",
      "\"\"\"\n",
      "Input: List of file name\n",
      "Output: List of files and line numbers where data is inconsistent\n",
      "\"\"\"\n",
      "# Check to make sure a given file has the correct number of columns\n",
      "def broken_files(l):\n",
      "    ret = []\n",
      "    for name in l:\n",
      "        h = open(name_to_file(name), \"r\").read().split(\"\\n\")\n",
      "        del h[-1]\n",
      "        h = [e.split() for e in h]\n",
      "        for i, j in enumerate(h):\n",
      "            if len(j) == COLUMNS_NO_SHOWDOWN:\n",
      "                # Did not got to showdown\n",
      "                continue\n",
      "            if len(j) == COLUMNS_SHOWDOWN:\n",
      "                # Went to Showdown\n",
      "                continue\n",
      "            else:\n",
      "                ret.append(name + \" \" + str(i))\n",
      "    return ret\n",
      "\n",
      "\n",
      "\"\"\"\n",
      "Input: Database File\n",
      "Output: Stream of Bytes in CSV format\n",
      "\"\"\"\n",
      "def convert_pdb_to_csv(f):\n",
      "    out = sio.StringIO()\n",
      "    s = f.read().split('\\n')\n",
      "    for l in s:\n",
      "        l = l.split()\n",
      "        if len(l) == COLUMNS_NO_SHOWDOWN:\n",
      "            l.extend([INVALID_CARD, INVALID_CARD])\n",
      "        l = \",\".join(l)\n",
      "        # Check to make sure this is not EOF\n",
      "        if len(l) > 0:\n",
      "            out.write(l + \"\\n\")\n",
      "    return out\n",
      "\n",
      "\"\"\"\n",
      "Input: Player Name\n",
      "Output: DataFrame of players history\n",
      "\"\"\"\n",
      "def player_to_df(name):\n",
      "    try:\n",
      "        df = c.get(name, -1)\n",
      "        if type(df) != int:\n",
      "            return df\n",
      "        with open(name_to_file(name), \"r\") as plyr_file:\n",
      "            my_csv = convert_pdb_to_csv(plyr_file)\n",
      "            new_df = pd.read_csv(io.BytesIO(my_csv.getvalue()), names=player_columns)\n",
      "            c[name] = new_df\n",
      "            return c.get(name)\n",
      "    except:\n",
      "        # Error reading csv to DataFrame\n",
      "        return -1\n",
      "\n",
      "\"\"\"\n",
      "Input: Player name and timestamp\n",
      "Output: Return player's performance at a given timestamp\n",
      "\"\"\"\n",
      "def player_hand(name, ts):\n",
      "    plyr_df = player_to_df(name)\n",
      "\n",
      "    # Error opening\n",
      "    if type(plyr_df) == int and plyr_df == -1 and DEBUG:\n",
      "        fp.write(\"Error Converting CSV to Dataframe\\nName: \" + name + \" \" + \"Timestamp: \" + str(ts) + \"\\n\")\n",
      "        return plyr_df\n",
      "\n",
      "    plyr_df = plyr_df[plyr_df.timestamp == ts]\n",
      "    \n",
      "    # Error finding\n",
      "    if len(plyr_df) == 0 and DEBUG:\n",
      "        fp.write(\"Error Player on Roster but Timestamp not Found\\nName: \" + name + \" \" + \"Timestamp: \" + str(ts) + \"\\n\")\n",
      "\n",
      "    return plyr_df\n",
      "\n",
      "\"\"\"\n",
      "Input: Row containing timestamp and list of player names\n",
      "Output: DataFrame for given hand\n",
      "\"\"\"\n",
      "def hand_from_roster(row):\n",
      "    player_dataframes = pd.DataFrame(columns=player_columns)\n",
      "    ts = row.timestamp\n",
      "    num = row.num_players\n",
      "    cols = [\"name\" + str(i) for i in xrange(1,num+1)]\n",
      "    for idx, name in enumerate(cols):\n",
      "        player = row[name]\n",
      "        p = player_hand(player, ts)\n",
      "        # If there is an error opening a players file, throughout the entire round\n",
      "        if type(p) == int and p == -1:\n",
      "            if DEBUG:\n",
      "                fp.write(\"Hand From Roster: Name: \" + name + \"Timestamp: \" + str(ts) + \"\\n\")\n",
      "            return pd.DataFrame(columns=player_columns)\n",
      "        # add individuals playe to hand\n",
      "        player_dataframes = player_dataframes.append(p)\n",
      "    return player_dataframes\n",
      "\n",
      "\"\"\"\n",
      "Input: DataFrame of each Table, Desired number of people at the table\n",
      "Output: All of the games containing the specified number of players\n",
      "\"\"\"\n",
      "def num_players_to_df(df, num):\n",
      "    target = df[df.num_players == num]\n",
      "    l = len(target)\n",
      "    hands = pd.DataFrame(columns=player_columns)\n",
      "    for idx, row in target.iterrows():\n",
      "        hands = hands.append(hand_from_roster(row))\n",
      "    return hands\n",
      "\n",
      "\"\"\"\n",
      "Input: None\n",
      "Output: Write out CSVs containing all of the hands of every table size\n",
      "\"\"\"\n",
      "def all_tables_to_csv():\n",
      "    # make sure none of the files rows which are the wrong number of columns \n",
      "    if DEBUG:\n",
      "        names = [el.replace(\"pdb.\", \"\") for el in os.listdir(DATA_PLAYER_ROOT)]\n",
      "        l = broken_files(names)\n",
      "        if len(l) > 0:\n",
      "            pp.pprint(l)\n",
      "            return 1 \n",
      "\n",
      "    # Build hroster data frame\n",
      "    hroster_df = None\n",
      "    with open(DATA_HROSTER, \"r\") as roster:\n",
      "        hroster_df = pd.read_csv(roster, names=hroster_columns, delim_whitespace=True)\n",
      "\n",
      "    # Get bounds\n",
      "    min_num_players = hroster_df.num_players.min()\n",
      "    min_num_players = hroster_df.num_players.max()\n",
      "\n",
      "    # Generate CSVs for all possible number of players in a given hand\n",
      "    for i in xrange(min_num_players, min_num_players+1):\n",
      "        print \"Num Players = \" + str(i)\n",
      "        num_players_to_df(hroster_df, i).to_csv((\"num_players_%d.csv\" % i)) \n",
      "    # Success\n",
      "    return 0\n",
      "\n",
      "\"\"\"\n",
      "Input: None\n",
      "Output: Create merger of all of the table sizes\n",
      "\"\"\"\n",
      "def merge_table_sizes():\n",
      "    full = pd.DataFrame(columns=player_columns)\n",
      "    for i in xrange(2, 11):\n",
      "        print \"Num Players = \" + str(i)\n",
      "        helper = pd.read_csv((\"num_players_%d.csv\" % i)) \n",
      "        helper[\"num_players\"] = [i]*len(helper)\n",
      "        full = full.append(helper)\n",
      "    full.to_csv(\"all_players.csv\")"
     ],
     "language": "python",
     "metadata": {},
     "outputs": [],
     "prompt_number": 51
    },
    {
     "cell_type": "heading",
     "level": 1,
     "metadata": {},
     "source": [
      "1: Build Higher Level DataFrames"
     ]
    },
    {
     "cell_type": "heading",
     "level": 4,
     "metadata": {},
     "source": [
      "Constants For Data Analysis"
     ]
    },
    {
     "cell_type": "code",
     "collapsed": false,
     "input": [
      "# All printouts are with respect to this constant\n",
      "# Set to \"*\" to print all output (This is a lot of output)\n",
      "NUM_PLAYERS = 10\n",
      "\n",
      "# Minimum number of hands any player analysed plays in the dataset\n",
      "MIN_NUM_HANDS = 8\n",
      "\n",
      "# Path to all of the csv's with the massaged data\n",
      "NUM_PLAYERS_PATH = \"./\"\n",
      "\n",
      "# Player intermediary state columns\n",
      "PLAYER_QUALITIES_COLUMNS = [\"player\", \"hands\", \"showdown\", \"post_flop\", \"positive\", \"zero\", \"neg\", \"winnings\", \"aggression\", \"prflop_folds\", \"prflop_raises\"]\n",
      "\n",
      "# Player feature level data\n",
      "FEATURES = [\"VPIP\", \"PFR\", \"handsWon\", \"showdown\", \"aggression\"]\n",
      "\n",
      "# Hand level data columns\n",
      "RAW_COLUMNS = [\"player\", \"timestamp\", \"play\", \"pos\", \"prflop\", \"flop\", \"turn\", \"river\", \"bankroll\", \"action\", \"winnings\", \"c1\", \"c2\"]\n",
      "\n",
      "# Range of number of possible players at the table\n",
      "TABLE_SIZE = xrange(2,11)\n",
      "\n",
      "# number of clusters used in principle component analysis\n",
      "NUM_PCA_COMPS = 2\n",
      "\n",
      "# number of clusters used in hac analysis\n",
      "NUM_HAC_CLUSTERS = 2\n",
      "\n",
      "# number of clusters used in k means analysis\n",
      "NUM_K_MEANS_CLUSTERS = 2\n",
      "\n",
      "# Confidence level\n",
      "T_TEST_SIG_LVL = 0.15\n",
      "\n",
      "# Cluster Names\n",
      "CLUSTER_NAMES = [\"aggressive\", \"passive\"]"
     ],
     "language": "python",
     "metadata": {},
     "outputs": [],
     "prompt_number": 52
    },
    {
     "cell_type": "heading",
     "level": 4,
     "metadata": {},
     "source": [
      "Helpers For Printing"
     ]
    },
    {
     "cell_type": "code",
     "collapsed": false,
     "input": [
      "\"\"\"\n",
      "Input: Dictionary with DataFrame Values\n",
      "Output: Print the head of all or specified dictionary\n",
      "\"\"\"\n",
      "def print_all_heads(d):\n",
      "    for key, value in d.iteritems():\n",
      "        pp.pprint(value.head())\n",
      "        \n",
      "def print_head(d):\n",
      "    if NUM_PLAYERS == \"*\":\n",
      "        print_all_heads(d)\n",
      "    else:\n",
      "        pp.pprint(d[NUM_PLAYERS].head())"
     ],
     "language": "python",
     "metadata": {},
     "outputs": [],
     "prompt_number": 53
    },
    {
     "cell_type": "heading",
     "level": 4,
     "metadata": {},
     "source": [
      "Graphing Helper Functions"
     ]
    },
    {
     "cell_type": "code",
     "collapsed": false,
     "input": [
      "\"\"\"\n",
      "Input: X label, Y label, Title\n",
      "Output: Label X axis, Label Y axis, Add Title to Graph \n",
      "\"\"\"\n",
      "def nice_graph(xlab, ylab, title):\n",
      "    plt.xlabel(xlab)\n",
      "    plt.ylabel(ylab)\n",
      "    plt.title(title)\n",
      "\n",
      "\"\"\"\n",
      "Input: Tuples (x,y)s, [Graphs Vert, Graphs Horizontal], (x_label, y_label)s,  \n",
      "Output: Matrix of graphs of the specified style\n",
      "\"\"\"\n",
      "def matrix_plot(list_of_tuples, aspect, list_of_axes, plt_type=\"scatter\", fig_size=(20,20), cs=[], titles=[]):\n",
      "    fg = plt.figure(figsize=fig_size)\n",
      "    adj = plt.subplots_adjust(hspace=.5,wspace=.25)\n",
      "    sp = plt.subplot(aspect[0],aspect[1],1)\n",
      "    i = 0\n",
      "    for idx, (x, y) in enumerate(list_of_tuples):\n",
      "        ln = plt.subplot(aspect[0],aspect[1], idx+1)\n",
      "        if plt_type == \"scatter\":\n",
      "            plt.scatter(x,y, c=cs)\n",
      "            x_ax = (\"%s\" % list_of_axes[idx][0])\n",
      "            y_ax = (\"%s\" % list_of_axes[idx][1])\n",
      "            if len(titles) != 0:\n",
      "                nice_graph(x_ax, y_ax,  titles[i])\n",
      "            else:\n",
      "                nice_graph(x_ax, y_ax,  (\"%s vs %s\" % (x_ax, y_ax)))\n",
      "        elif plt_type == \"hist\":\n",
      "            plt.hist(x, bins=y[idx])\n",
      "            title = (\"%s\" % list_of_axes[idx])\n",
      "            num_bins = (\"%d\" % y[idx])\n",
      "            nice_graph(title, \"\",  title + \" : Bins = \" + num_bins)    \n",
      "        i = i + 1 \n",
      "\n",
      "\"\"\"\n",
      "Input: Tuples (x,y)s, [Graphs Vert, Graphs Horizontal]  \n",
      "Output: Matrix of bar graphs\n",
      "\"\"\"\n",
      "def matrix_bar_plot(list_of_tuples, aspect):\n",
      "    fg = plt.figure(figsize=(12,10))\n",
      "    adj = plt.subplots_adjust(hspace=1,wspace=1)\n",
      "    sp = plt.subplot(aspect[0],aspect[1],1)\n",
      "    for idx, (x, y) in enumerate(list_of_tuples):\n",
      "        ln = plt.subplot(aspect[0],aspect[1], idx+1)\n",
      "        plt.bar(x,y, align='center')\n",
      "        nice_graph(\"Position\", \"Expected Value\", (\"EV vs Pos (Number of Players = %d)\" % max(x)))\n",
      "        pylab.xticks(x, map(str, x))\n"
     ],
     "language": "python",
     "metadata": {},
     "outputs": [],
     "prompt_number": 54
    },
    {
     "cell_type": "heading",
     "level": 4,
     "metadata": {},
     "source": [
      "Read in all data"
     ]
    },
    {
     "cell_type": "code",
     "collapsed": false,
     "input": [
      "all_player_hands = pd.DataFrame.from_csv(NUM_PLAYERS_PATH + \"all_players.csv\")"
     ],
     "language": "python",
     "metadata": {},
     "outputs": [],
     "prompt_number": 55
    },
    {
     "cell_type": "code",
     "collapsed": false,
     "input": [
      "all_player_hands.head()"
     ],
     "language": "python",
     "metadata": {},
     "outputs": [
      {
       "html": [
        "<div style=\"max-height:1000px;max-width:1500px;overflow:auto;\">\n",
        "<table border=\"1\" class=\"dataframe\">\n",
        "  <thead>\n",
        "    <tr style=\"text-align: right;\">\n",
        "      <th></th>\n",
        "      <th>Unnamed: 0.1</th>\n",
        "      <th>action</th>\n",
        "      <th>bankroll</th>\n",
        "      <th>c1</th>\n",
        "      <th>c2</th>\n",
        "      <th>flop</th>\n",
        "      <th>num_players</th>\n",
        "      <th>play</th>\n",
        "      <th>player</th>\n",
        "      <th>pos</th>\n",
        "      <th>prflop</th>\n",
        "      <th>river</th>\n",
        "      <th>timestamp</th>\n",
        "      <th>turn</th>\n",
        "      <th>winnings</th>\n",
        "    </tr>\n",
        "  </thead>\n",
        "  <tbody>\n",
        "    <tr>\n",
        "      <th>0</th>\n",
        "      <td>  33</td>\n",
        "      <td> 20</td>\n",
        "      <td>   160</td>\n",
        "      <td> XX</td>\n",
        "      <td> XX</td>\n",
        "      <td>  b</td>\n",
        "      <td> 2</td>\n",
        "      <td> 2</td>\n",
        "      <td>  Johnny</td>\n",
        "      <td> 1</td>\n",
        "      <td> Bc</td>\n",
        "      <td>  -</td>\n",
        "      <td> 986109383</td>\n",
        "      <td>  -</td>\n",
        "      <td>  30</td>\n",
        "    </tr>\n",
        "    <tr>\n",
        "      <th>1</th>\n",
        "      <td> 131</td>\n",
        "      <td> 10</td>\n",
        "      <td> 15229</td>\n",
        "      <td> XX</td>\n",
        "      <td> XX</td>\n",
        "      <td>  Q</td>\n",
        "      <td> 2</td>\n",
        "      <td> 2</td>\n",
        "      <td> pokibot</td>\n",
        "      <td> 2</td>\n",
        "      <td> Bk</td>\n",
        "      <td>  -</td>\n",
        "      <td> 986109383</td>\n",
        "      <td>  -</td>\n",
        "      <td>   0</td>\n",
        "    </tr>\n",
        "    <tr>\n",
        "      <th>2</th>\n",
        "      <td>   0</td>\n",
        "      <td> 50</td>\n",
        "      <td>  1000</td>\n",
        "      <td> 2h</td>\n",
        "      <td> 5d</td>\n",
        "      <td>  k</td>\n",
        "      <td> 2</td>\n",
        "      <td> 2</td>\n",
        "      <td>     ATM</td>\n",
        "      <td> 2</td>\n",
        "      <td> Bk</td>\n",
        "      <td>  b</td>\n",
        "      <td> 986109911</td>\n",
        "      <td>  c</td>\n",
        "      <td>  50</td>\n",
        "    </tr>\n",
        "    <tr>\n",
        "      <th>3</th>\n",
        "      <td>  34</td>\n",
        "      <td> 50</td>\n",
        "      <td>   170</td>\n",
        "      <td> 5h</td>\n",
        "      <td> 6h</td>\n",
        "      <td>  k</td>\n",
        "      <td> 2</td>\n",
        "      <td> 2</td>\n",
        "      <td>  Johnny</td>\n",
        "      <td> 1</td>\n",
        "      <td> Bc</td>\n",
        "      <td> kc</td>\n",
        "      <td> 986109911</td>\n",
        "      <td>  b</td>\n",
        "      <td>  50</td>\n",
        "    </tr>\n",
        "    <tr>\n",
        "      <th>4</th>\n",
        "      <td>   1</td>\n",
        "      <td> 60</td>\n",
        "      <td>  1000</td>\n",
        "      <td> Ac</td>\n",
        "      <td> 8d</td>\n",
        "      <td> kc</td>\n",
        "      <td> 2</td>\n",
        "      <td> 2</td>\n",
        "      <td>     ATM</td>\n",
        "      <td> 1</td>\n",
        "      <td> Bc</td>\n",
        "      <td> kc</td>\n",
        "      <td> 986109946</td>\n",
        "      <td> kc</td>\n",
        "      <td> 120</td>\n",
        "    </tr>\n",
        "  </tbody>\n",
        "</table>\n",
        "</div>"
       ],
       "metadata": {},
       "output_type": "pyout",
       "prompt_number": 56,
       "text": [
        "   Unnamed: 0.1  action  bankroll  c1  c2 flop  num_players  play   player  \\\n",
        "0            33      20       160  XX  XX    b            2     2   Johnny   \n",
        "1           131      10     15229  XX  XX    Q            2     2  pokibot   \n",
        "2             0      50      1000  2h  5d    k            2     2      ATM   \n",
        "3            34      50       170  5h  6h    k            2     2   Johnny   \n",
        "4             1      60      1000  Ac  8d   kc            2     2      ATM   \n",
        "\n",
        "   pos prflop river  timestamp turn  winnings  \n",
        "0    1     Bc     -  986109383    -        30  \n",
        "1    2     Bk     -  986109383    -         0  \n",
        "2    2     Bk     b  986109911    c        50  \n",
        "3    1     Bc    kc  986109911    b        50  \n",
        "4    1     Bc    kc  986109946   kc       120  "
       ]
      }
     ],
     "prompt_number": 56
    },
    {
     "cell_type": "heading",
     "level": 4,
     "metadata": {},
     "source": [
      "Data at the Hand Level"
     ]
    },
    {
     "cell_type": "code",
     "collapsed": false,
     "input": [
      "\"\"\"\n",
      "Input: None\n",
      "Output: Dictionary {Table Size : DataFrame} \n",
      "\"\"\"\n",
      "def init_data():\n",
      "    # Read in entire data frame\n",
      "    all_players = pd.DataFrame.from_csv(NUM_PLAYERS_PATH + \"all_players.csv\")\n",
      "    del all_players[\"Unnamed: 0.1\"]\n",
      "    # Create dictionary for all of the different possible number of players at a table\n",
      "    return {df.num_players.values[0]: df for idx, df in all_players.groupby(\"num_players\")}"
     ],
     "language": "python",
     "metadata": {},
     "outputs": [],
     "prompt_number": 57
    },
    {
     "cell_type": "code",
     "collapsed": false,
     "input": [
      "hand_raw = init_data()\n",
      "print_head(hand_raw)"
     ],
     "language": "python",
     "metadata": {},
     "outputs": [
      {
       "output_type": "stream",
       "stream": "stdout",
       "text": [
        "   action  bankroll  c1  c2 flop  num_players  play     player  pos prflop  \\\n",
        "0      10      1713  XX  XX    k           10    10  AJ-sOOted    8      c   \n",
        "1      10       180  XX  XX    k           10    10     Bowler    9      c   \n",
        "2       0      1175  XX  XX    -           10    10   JohnSpot    5      f   \n",
        "3      50      3657  Qs  Ts    k           10    10      Murph    1     Bc   \n",
        "4      10       775  XX  XX    k           10    10        RIG    6      c   \n",
        "\n",
        "  river  timestamp turn  winnings  \n",
        "0     -  986101314    f         0  \n",
        "1     -  986101314    f         0  \n",
        "2     -  986101314    -         0  \n",
        "3    kc  986101314    b         0  \n",
        "4     -  986101314    f         0  \n"
       ]
      }
     ],
     "prompt_number": 58
    },
    {
     "cell_type": "heading",
     "level": 4,
     "metadata": {},
     "source": [
      "Data at the Player Count Level"
     ]
    },
    {
     "cell_type": "heading",
     "level": 5,
     "metadata": {},
     "source": [
      "Compute Aggression Factor"
     ]
    },
    {
     "cell_type": "markdown",
     "metadata": {},
     "source": [
      " Aggression factor is a metric commonly used to determine \n",
      "how aggressive a player is.  We would expect an aggressive player to\n",
      "bet and raise with a large range of hands rather than meekly call.\n",
      "Thus, we compute a player's aggression factor by looking at his \n",
      "total bets and raises divided by his calls."
     ]
    },
    {
     "cell_type": "markdown",
     "metadata": {},
     "source": [
      "$$\\text{Aggression Factor} = \\frac{\\text{Number of Raises} + \\text{Number of Bets}}{\\text{Number of Calls}}$$"
     ]
    },
    {
     "cell_type": "code",
     "collapsed": false,
     "input": [
      "\"\"\"\n",
      "Input: DataFrame representing one player's complete history\n",
      "Output: (Total Number of Bets and Raises) / Total number of calls\n",
      "\"\"\"\n",
      "def create_aggression_factor(g):\n",
      "          # Compute aggression factor = (bet + raise) / call\n",
      "        numPreflopBets = reduce(lambda acc, x: x.count('b') + acc, g.prflop.values, 0)\n",
      "        numPreflopRaises = reduce(lambda acc, x: x.count('r') + acc, g.prflop.values, 0)\n",
      "        numPreflopCalls = reduce(lambda acc, x: x.count('c') + acc, g.prflop.values, 0)\n",
      "        numFlopBets = reduce(lambda acc, x: x.count('b') + acc, g.flop.values, 0)\n",
      "        numFlopRaises = reduce(lambda acc, x: x.count('r') + acc, g.flop.values, 0)\n",
      "        numFlopCalls = reduce(lambda acc, x: x.count('c') + acc, g.flop.values, 0)\n",
      "        numTurnBets = reduce(lambda acc, x: x.count('b') + acc, g.turn.values, 0)\n",
      "        numTurnRaises = reduce(lambda acc, x: x.count('r') + acc, g.turn.values, 0)\n",
      "        numTurnCalls = reduce(lambda acc, x: x.count('c') + acc, g.turn.values, 0)\n",
      "        numRiverBets = reduce(lambda acc, x: x.count('b') + acc, g.river.values, 0)\n",
      "        numRiverRaises = reduce(lambda acc, x: x.count('r') + acc, g.river.values, 0)\n",
      "        numRiverCalls = reduce(lambda acc, x: x.count('c') + acc, g.river.values, 0)\n",
      "    \n",
      "        return float(numPreflopBets + numPreflopRaises + numFlopBets + numFlopRaises + numTurnBets \\\n",
      "                       + numTurnRaises + numRiverBets + numRiverRaises) \\\n",
      "                       / max(1, numPreflopCalls + numFlopCalls + numTurnCalls + numRiverCalls)\n",
      "        "
     ],
     "language": "python",
     "metadata": {},
     "outputs": [],
     "prompt_number": 59
    },
    {
     "cell_type": "code",
     "collapsed": false,
     "input": [
      "\"\"\"\n",
      "Input: Dictionary will be dataframe containing all player statistics, Player DataFrame\n",
      "Output: Individual player is added to disctionary\n",
      "\"\"\"\n",
      "def init_row(series_dict, g):\n",
      "        # populate basic statistics\n",
      "        series_dict[\"player\"].append(g[\"player\"].tolist()[0])\n",
      "        series_dict[\"hands\"].append(len(g))\n",
      "        g[\"net\"] = g.winnings - g.action\n",
      "        series_dict[\"positive\"].append(len(g[g.net > 0]))\n",
      "        series_dict[\"zero\"].append(len(g[g.net == 0]))\n",
      "        series_dict[\"neg\"].append(len(g[g.net < 0]))\n",
      "        series_dict[\"showdown\"].append(len(g[~(g.c1.str.contains(\"XX\") & g.c2.str.contains(\"XX\"))]))\n",
      "        series_dict[\"post_flop\"].append(len(g[~g.prflop.str.contains(\"f\")]))\n",
      "        series_dict[\"winnings\"].append(g[\"net\"].sum())\n",
      "        series_dict[\"aggression\"].append(create_aggression_factor(g))\n",
      "        # Number of times just folded preflop\n",
      "        numPreflopFolds = len(g[g.prflop.str.startswith(\"Bf\") | g.prflop.str.startswith(\"f\")])\n",
      "        series_dict[\"prflop_folds\"].append(numPreflopFolds)\n",
      "        # Number of times raised preflop\n",
      "        numPreflopRaises = len(g[g.prflop.str.contains(\"r\")])\n",
      "        series_dict[\"prflop_raises\"].append(numPreflopRaises)\n",
      "\n",
      "\n",
      "\"\"\"\n",
      "Input: Dictionary {Table Size : DataFrame of every hand}\n",
      "Output: Dictionary {Table Size : DataFrame of player level data}\n",
      "\"\"\"\n",
      "def raw_hand_to_raw_player(raw):\n",
      "    # Number of players to player summary data\n",
      "    num_p_to_info = {x : pd.DataFrame() for x in TABLE_SIZE}\n",
      "    # For each data frame in number of players to raw info convert that\n",
      "    # to number of players to higher level player data\n",
      "    for key, value in raw.iteritems():\n",
      "        # For each table size group by player name\n",
      "        tmp = value.groupby([\"player\"])\n",
      "        # Create dictionary to hold rows\n",
      "        series_dict = {c: [] for c in PLAYER_QUALITIES_COLUMNS}\n",
      "        # Add row for each player\n",
      "        for idx, g in tmp:\n",
      "            init_row(series_dict, g)\n",
      "\n",
      "        num_p_to_info[key] = pd.DataFrame.from_dict(series_dict)\n",
      "    # Remove players who played less than MIN_NUM_HANDS\n",
      "    for key, value in num_p_to_info.iteritems():\n",
      "        num_p_to_info[key] = value[value.hands > MIN_NUM_HANDS]\n",
      "        \n",
      "    return num_p_to_info    "
     ],
     "language": "python",
     "metadata": {},
     "outputs": [],
     "prompt_number": 60
    },
    {
     "cell_type": "code",
     "collapsed": false,
     "input": [
      "player_raw = raw_hand_to_raw_player(hand_raw)\n",
      "print_head(player_raw)"
     ],
     "language": "python",
     "metadata": {},
     "outputs": [
      {
       "output_type": "stream",
       "stream": "stdout",
       "text": [
        "   aggression  hands  neg     player  positive  post_flop  prflop_folds  \\\n",
        "0    0.047619     20   10    A52wkhi         1          9            11   \n",
        "2    0.349206     60   26    AAmazon        11         34            26   \n",
        "4    0.500000     52   12    ADBNoNo         3         12            40   \n",
        "5    0.752809    120   50  AJ-sOOted        14         58            62   \n",
        "6    0.379310     17   10  AceSpades         3         11             6   \n",
        "\n",
        "   prflop_raises  showdown  winnings  zero  \n",
        "0              0         1       -70     9  \n",
        "2              2         9       835    23  \n",
        "4              1         6        -5    37  \n",
        "5             19        27      -584    56  \n",
        "6              1         6       373     4  \n"
       ]
      }
     ],
     "prompt_number": 61
    },
    {
     "cell_type": "heading",
     "level": 4,
     "metadata": {},
     "source": [
      "Convert Player Information to Higher Level Features"
     ]
    },
    {
     "cell_type": "code",
     "collapsed": false,
     "input": [
      "\"\"\"\n",
      "Input: Dictionary {Table Size : DataFrame of player level data}\n",
      "Output: Dictionary {Table Size : DataFrame of player features}\n",
      "\"\"\"\n",
      "def raw_player_to_player_features(num_p_to_info):\n",
      "    num_p_to_features = {x : pd.DataFrame() for x in TABLE_SIZE}\n",
      "\n",
      "    for key, value in num_p_to_info.iteritems():\n",
      "        playerFeatures = pd.DataFrame()\n",
      "\n",
      "        # Add players\n",
      "        playerFeatures['player'] = value['player']\n",
      "\n",
      "        # Compute voluntary put into pot percentage (VPIP)\n",
      "        playerFeatures['VPIP'] = (value['hands'] - value['prflop_folds']) / value['hands']\n",
      "\n",
      "        # Compute preflop raise percentage (PFR)\n",
      "        playerFeatures['PFR'] = value['prflop_raises'] / value['hands']\n",
      "\n",
      "        # Compute percentage of hands won\n",
      "        playerFeatures['handsWon'] = value['positive'] / value['hands']\n",
      "\n",
      "        # Compute percentage of hands to showdown\n",
      "        playerFeatures['showdown'] = value['showdown'] / value['hands']\n",
      "\n",
      "        # Copy over aggression factor\n",
      "        playerFeatures['aggression'] = value['aggression']\n",
      "\n",
      "        num_p_to_features[key] = playerFeatures\n",
      "    return num_p_to_features"
     ],
     "language": "python",
     "metadata": {},
     "outputs": [],
     "prompt_number": 62
    },
    {
     "cell_type": "code",
     "collapsed": true,
     "input": [
      "player_features = raw_player_to_player_features(player_raw)\n",
      "print_head(player_features)"
     ],
     "language": "python",
     "metadata": {},
     "outputs": [
      {
       "output_type": "stream",
       "stream": "stdout",
       "text": [
        "      player      VPIP       PFR  handsWon  showdown  aggression\n",
        "0    A52wkhi  0.450000  0.000000  0.050000  0.050000    0.047619\n",
        "2    AAmazon  0.566667  0.033333  0.183333  0.150000    0.349206\n",
        "4    ADBNoNo  0.230769  0.019231  0.057692  0.115385    0.500000\n",
        "5  AJ-sOOted  0.483333  0.158333  0.116667  0.225000    0.752809\n",
        "6  AceSpades  0.647059  0.058824  0.176471  0.352941    0.379310\n"
       ]
      }
     ],
     "prompt_number": 63
    },
    {
     "cell_type": "markdown",
     "metadata": {},
     "source": [
      "We express each player using five features.  Those features are voluntary put into pot percentage, pre-flop raise percentage, percentage of hands won, percentage of hands gone to showdown and aggression.  Voluntary put into pot percentage is the percentage of hands that a player voluntarily puts money into the pot pre-flop (anything that is not a fold).  Pre-flop raise percentage is the percentage of hands that a player raises pre-flop.  Percentage of hands gone to showdown is the percentage of hands in which a player must show his hand at the end of a hand.  Aggression is characterized by a player's tendency to bet and raise versus just calling, using the formula mentioned above."
     ]
    },
    {
     "cell_type": "heading",
     "level": 1,
     "metadata": {},
     "source": [
      "Part 2: Exploratory Statistics"
     ]
    },
    {
     "cell_type": "markdown",
     "metadata": {},
     "source": [
      "Playing poker successfully is made up of two components: your hand strength and your strategy. In this section we examine the payers in our data set to see whether they take advantage of traditional poker playing strategies such as continuation betting and three betting pre flop. In addition, we look at the expected strength of a hand versus the observed strength in our data."
     ]
    },
    {
     "cell_type": "heading",
     "level": 2,
     "metadata": {},
     "source": [
      "2.1  Statistics By Feature"
     ]
    },
    {
     "cell_type": "code",
     "collapsed": false,
     "input": [
      "# Show distribution of raw data for a given number of players\n",
      "for key, value in player_features.iteritems():\n",
      "    if NUM_PLAYERS != \"*\":\n",
      "        if key != NUM_PLAYERS:\n",
      "            continue\n",
      "    # get all of the players and see how they are distributed amongst our features\n",
      "    l = filter(lambda x: x != \"player\" and x != \"label\" and x != \"cluster\" and x != \"hac_cluster\", value.columns)\n",
      "    features = map(lambda x: (map(lambda y: y*100, value[x].tolist()), [20]*len(value[x])), l)\n",
      "    print(\"Num Players %d: Player Features Data Frame\" % key)\n",
      "    matrix_plot(features, [2,6], l, plt_type=\"hist\", fig_size=(20,8))\n",
      "    plt.show()"
     ],
     "language": "python",
     "metadata": {},
     "outputs": [
      {
       "output_type": "stream",
       "stream": "stdout",
       "text": [
        "Num Players 10: Player Features Data Frame\n"
       ]
      },
      {
       "metadata": {},
       "output_type": "display_data",
       "png": "[encoded data removed]",
       "text": [
        "<matplotlib.figure.Figure at 0x102187d10>"
       ]
      }
     ],
     "prompt_number": 64
    },
    {
     "cell_type": "markdown",
     "metadata": {},
     "source": [
      "Based on our data, we can see that the number of hands won by a player, the percentage of times a player voluntarily enters the pot and the percentage of times a player goes to show down are fairly normally distributed. However, there is a long right hand skew for aggression and pre-flop raises and smaller skews to the right with in showdown and hand wons.\n",
      "\n",
      "Because of these distributions we can tell that a large number of people in our data call while a much smaller portion of people bet and raise; and that among the people who call, over half of them call more than 50% of their hands. Typically, systematic calling is seen as weak because it indicates that the betting payers have more control over the action and can potentially win hands just by being more aggressive."
     ]
    },
    {
     "cell_type": "heading",
     "level": 2,
     "metadata": {},
     "source": [
      "2.2 The Importance of Position"
     ]
    },
    {
     "cell_type": "markdown",
     "metadata": {},
     "source": [
      "Position is one of the most important factors in playing poker. The later you are in the table the more players you can see bet before you and you can then act on other players' weakness. The highest position on the board at a given time is the \"dealer\" also known as the button. The highest position bets last and it typically thought of as having the biggest advantage. It is called the button because in casinos a physical marker is passed between players to indicate the position of the last betting player. "
     ]
    },
    {
     "cell_type": "heading",
     "level": 4,
     "metadata": {},
     "source": [
      "Below we have expected PnL plotted against position. As we can see, having later position is a significant advantage in Texas Hold'Em."
     ]
    },
    {
     "cell_type": "code",
     "collapsed": false,
     "input": [
      "\"\"\"\n",
      "Input: DataFrame with data by hand\n",
      "Output: \n",
      "\"\"\"\n",
      "def get_ev_by_pos_and_num_players(df):\n",
      "    df['real_winnings'] = df.winnings - df.action\n",
      "    p = (df[['real_winnings', 'play', 'pos']]).astype(int).groupby(by=['play', 'pos'], as_index=False).mean()\n",
      "    return p"
     ],
     "language": "python",
     "metadata": {},
     "outputs": [],
     "prompt_number": 65
    },
    {
     "cell_type": "code",
     "collapsed": false,
     "input": [
      "ev_table = get_ev_by_pos_and_num_players(all_player_hands)\n",
      "graph = []\n",
      "for i in xrange(2, 11):\n",
      "    rel_entries = ev_table[ev_table.play == i]\n",
      "    graph.append((list(rel_entries['pos']), list(rel_entries['real_winnings'])))\n",
      "\n",
      "matrix_bar_plot(graph, [3,3])"
     ],
     "language": "python",
     "metadata": {},
     "outputs": [
      {
       "metadata": {},
       "output_type": "display_data",
       "png": "[encoded data removed]",
       "text": [
        "<matplotlib.figure.Figure at 0x10ba8e6d0>"
       ]
      }
     ]
    },
    {
     "cell_type": "markdown",
     "metadata": {},
     "source": [
      "From the above graphs, it is clear that later position players have a significant advantage over early position players.  As mentioned above, the main advantage of being a later position player is that you can see the actions of earlier players and act accordingly.  As a result, when it's your turn to act, you have a better idea of the other players' holdings.  Another advantage of being a later position player is that there are fewer people behind you to continue the action.  Because early position players face a lot of potential raises after they act, they may be afraid of betting.  On the other hand, a player with better position faces fewer possible raises after they act. "
     ]
    },
    {
     "cell_type": "heading",
     "level": 2,
     "metadata": {},
     "source": [
      "2.3 Expected Value of Common Strategies"
     ]
    },
    {
     "cell_type": "markdown",
     "metadata": {},
     "source": [
      "A continuation bet is a bet that is made on the flop if you raised pre-flop. It is important to point out that you can continuation bet regardless of whether or not your hand improved as a result of the flop.\n",
      "\n",
      "<a href=\"http://www.thepokerbank.com/strategy/plays/continuation-bet/\">source</a>"
     ]
    },
    {
     "cell_type": "heading",
     "level": 3,
     "metadata": {},
     "source": [
      "2.3.1 Continuation Betting "
     ]
    },
    {
     "cell_type": "code",
     "collapsed": false,
     "input": [
      "def find_last_raise(string):\n",
      "    \"\"\"\n",
      "    defined for use in cont_bet_filter. finds the last betting round that a raised happened given\n",
      "    the string encoding a players actions, e.g. \"Bcr\" -> 2\n",
      "    \"\"\"\n",
      "    return string.rfind('r')\n",
      "\n",
      "def cont_bet_filter(df):\n",
      "    \"\"\"\n",
      "    returns a dataframe containing only continuation bets from the DataFrame df\n",
      "    \"\"\"\n",
      "    # remove duplicate timestamps\n",
      "    timestamp_set = list(set(df['timestamp']))\n",
      "\n",
      "    # create DataFrame with headers the same as for rounds\n",
      "    cbets = pd.DataFrame(columns = df.columns.values)\n",
      "\n",
      "    curr_row = 0\n",
      "    \n",
      "    for timestamp in timestamp_set:\n",
      "        \n",
      "        # get all entries associated with one hand/round\n",
      "        curr_hand = df[df.timestamp == timestamp]\n",
      "                \n",
      "        # prflop_score lets us determine who the preflop raiser is. it takes the latest round of betting (0-indexed)\n",
      "        # that someone raised and adds to it the player's position divided by 20\n",
      "        # the player with the highest prflop_score greater than 0 is the preflop raiser\n",
      "        # e.g. if BigBlind has actions 'Bcr', prflop_score will be 2.1 because latest raise was on 2nd round and he's\n",
      "        # position 2. the position is divided by 20 because we only care about position if the latest bet of two players\n",
      "        #is on the same round, and in this case, the higher position is the preflop raiser\n",
      "        # dividing by 20 means we never add something >= 1\n",
      "        curr_hand['prflop_score'] = curr_hand['prflop'].apply(find_last_raise) + (curr_hand['pos'] )/20.0\n",
      "        \n",
      "        # if the max prflop_score is less than 0, there is no preflop raiser\n",
      "        if curr_hand['prflop_score'].max() > 0:\n",
      "            \n",
      "            # get the preflop raiser\n",
      "            prflop_raiser_index = curr_hand['prflop_score'].argmax()\n",
      "            prflop_raiser = curr_hand.loc[prflop_raiser_index]\n",
      "            \n",
      "            # if the preflop raiser bets on the flop, he is a continuation better and we add him to the cbets DataFrame\n",
      "            if prflop_raiser['flop'].find('b') == 0 or prflop_raiser['flop'].find('A') == 0:\n",
      "                cbets.loc[curr_row] = prflop_raiser\n",
      "                curr_row += 1\n",
      "    return cbets\n",
      "\n",
      "cont_bets = cont_bet_filter(all_player_hands)\n",
      "cont_bets['real_winnings'] = cont_bets.winnings - cont_bets.action"
     ],
     "language": "python",
     "metadata": {},
     "outputs": []
    },
    {
     "cell_type": "heading",
     "level": 4,
     "metadata": {},
     "source": [
      "Average PnL of Continuation Betting"
     ]
    },
    {
     "cell_type": "code",
     "collapsed": false,
     "input": [
      "print 'Average PnL for Continuation Betters is', cont_bets.real_winnings.mean()"
     ],
     "language": "python",
     "metadata": {},
     "outputs": []
    },
    {
     "cell_type": "heading",
     "level": 4,
     "metadata": {},
     "source": [
      "Boxplots of winnings from Continuation Betting by table size and position."
     ]
    },
    {
     "cell_type": "code",
     "collapsed": false,
     "input": [
      "ev_table = get_ev_by_pos_and_num_players(cont_bets)\n",
      "graph = []\n",
      "\n",
      "for i in xrange(2, 11):\n",
      "    rel_entries = ev_table[ev_table.play == i]\n",
      "    graph.append((list(rel_entries['pos']), list(rel_entries['real_winnings'])))\n",
      "\n",
      "matrix_bar_plot(graph, [3,3])"
     ],
     "language": "python",
     "metadata": {},
     "outputs": []
    },
    {
     "cell_type": "markdown",
     "metadata": {},
     "source": [
      "From these graphs, it is easy to see that continuation betting is a decently profitable strategy, even more so if conducted from people in mid-late positions. Even in the worst case, continuation betting as seen from our data, has a very limited downside. This agrees with continuation betting as an established poker tactic."
     ]
    },
    {
     "cell_type": "heading",
     "level": 3,
     "metadata": {},
     "source": [
      "2.3.2 Three Betting Pre-Flop"
     ]
    },
    {
     "cell_type": "markdown",
     "metadata": {},
     "source": [
      "Three betting occurs when there has been two raises at any round of betting. Yes you heard right, only two raises are required. This is becuase the big blind is considered a raise over the small blind. Three betting pre-flop is therefore being the second raiser before the flop is shown. \n",
      "\n",
      "<a href=\"http://www.thepokerbank.com/strategy/plays/3bet/\">source</a>"
     ]
    },
    {
     "cell_type": "heading",
     "level": 4,
     "metadata": {},
     "source": [
      "Three Betting DataFrame"
     ]
    },
    {
     "cell_type": "code",
     "collapsed": false,
     "input": [
      "def contains_raise_or_all_in(s):\n",
      "    return \"r\" in s or \"A\" in s\n",
      "\n",
      "# Filter by three bet Pre Flop\n",
      "def three_bet_in_hand(df):\n",
      "    df = df.sort([\"pos\"])\n",
      "    two_raises = 2\n",
      "    for ind, row in df.iterrows():\n",
      "        if contains_raise_or_all_in(row.prflop):\n",
      "            two_raises = two_raises - 1\n",
      "        if two_raises == 0:\n",
      "            return row\n",
      "    return []\n",
      "\n",
      "def three_bet_filter(df):\n",
      "    # remove duplicate timestamps\n",
      "    timestamp_set = list(set(df['timestamp']))\n",
      "\n",
      "    # create DataFrame with headers the same as for rounds\n",
      "    three_bets = pd.DataFrame(columns = df.columns.values)\n",
      "\n",
      "    curr_row = 0\n",
      "    \n",
      "    # add the three betters to the dataframe three_bets\n",
      "    for timestamp in timestamp_set:\n",
      "        curr_hand = df[df.timestamp == timestamp]\n",
      "        three_better = three_bet_in_hand(curr_hand)\n",
      "        if len(three_better) > 0:\n",
      "            three_bets.loc[curr_row] = three_better\n",
      "            curr_row += 1\n",
      "    return three_bets\n",
      "\n",
      "three_bets = three_bet_filter(all_player_hands) \n",
      "three_bets['real_winnings'] = three_bets.winnings - three_bets.action"
     ],
     "language": "python",
     "metadata": {},
     "outputs": []
    },
    {
     "cell_type": "heading",
     "level": 4,
     "metadata": {},
     "source": [
      "Average PnL of Three Betting"
     ]
    },
    {
     "cell_type": "code",
     "collapsed": false,
     "input": [
      "print 'Average PnL for Three Betters is', three_bets.real_winnings.mean()"
     ],
     "language": "python",
     "metadata": {},
     "outputs": []
    },
    {
     "cell_type": "heading",
     "level": 4,
     "metadata": {},
     "source": [
      "Boxplots of winnings from Three-Betting by table size and position."
     ]
    },
    {
     "cell_type": "code",
     "collapsed": false,
     "input": [
      "ev_table = get_ev_by_pos_and_num_players(three_bets)\n",
      "graph = []\n",
      "\n",
      "for i in xrange(2, 11):\n",
      "    rel_entries = ev_table[ev_table.play == i]\n",
      "    graph.append((list(rel_entries['pos']), list(rel_entries['real_winnings'])))\n",
      "\n",
      "matrix_bar_plot(graph, [3,3])"
     ],
     "language": "python",
     "metadata": {},
     "outputs": []
    },
    {
     "cell_type": "markdown",
     "metadata": {},
     "source": [
      "Based on the box plots above, we can see that three betting pre-flop significantly increases winnings for later players at the table (with the exception of 7 player tables). Without a more thorough difference of differences analysis it is hard to tell the exact impact of three betting versus the effect of people having better cards when they bet more pre-flop. However, it is clear that whether one has good cards or not, three betting may signal to people that you have a better hand causing others to fold and magnifying the importance of your position at the table."
     ]
    },
    {
     "cell_type": "heading",
     "level": 2,
     "metadata": {},
     "source": [
      "2.4 Theoretical Hand Strength vs. Hand Expected Values"
     ]
    },
    {
     "cell_type": "markdown",
     "metadata": {},
     "source": [
      "Hand strength is an important metric to consider in Texas Hold'em.  Players should mainly play premium hands for maximal value because premium hands tend to win pots.  What are some good hands to play?  We conducted an analysis of how strong hands are by looking at the empirical expected value of each hand.  Our data set is not very large compared to the number of total hands, so we used additional theoretical results from http://holdemtight.com/pgs/od/oddpgs/3-169holdemhands.htm.  By comparing empirical and theoretical hand strengths, we hoped to figure out what hands may have low theoretical hand strengths and surprisingly high empirical value and vice versa. "
     ]
    },
    {
     "cell_type": "heading",
     "level": 3,
     "metadata": {},
     "source": [
      "Augmented Theoretical Estimates of Hand Strength"
     ]
    },
    {
     "cell_type": "code",
     "collapsed": false,
     "input": [
      "# source of other theoretical data http://holdemtight.com/pgs/od/oddpgs/3-169holdemhands.htm\n",
      "# units are in big blinds, so we need to divide profit in our dataset by the size of the big blind\n",
      "\n",
      "# Theoretical hand strengths\n",
      "theoretical_hand_strength = {}\n",
      "\n",
      "th = pd.read_csv('theoretical_strengths.csv')\n",
      "\n",
      "# We compute theoretical score by adding win percentage and 0.5 * tie percentage because\n",
      "# the pot is split when a tie occurs\n",
      "th['score'] = th.win_pct + 0.5 * th.tie_pct\n",
      "\n",
      "for i in xrange(len(th)):\n",
      "    theoretical_hand_strength[th.Cards[i]] = th.score[i]\n"
     ],
     "language": "python",
     "metadata": {},
     "outputs": []
    },
    {
     "cell_type": "heading",
     "level": 2,
     "metadata": {},
     "source": [
      "Use Data to Calculate EV by Hand"
     ]
    },
    {
     "cell_type": "code",
     "collapsed": false,
     "input": [
      "# dictionaries to handle T, J, Q, K, A\n",
      "card_to_val = {'T' : 10, 'J' : 11, 'Q' : 12, 'K' : 13, 'A' :14}\n",
      "val_to_card = {10 : 'T', 11 : 'J', 12 : 'Q', 13 : 'K', 14 : 'A'}\n",
      "\n",
      "def cards_to_key(cards):\n",
      "    card1 = cards[0]\n",
      "    card2 = cards[1]\n",
      "    \n",
      "    # get card values\n",
      "    card1_val = card_to_val.get(card1[0], card1[0])\n",
      "    card2_val = card_to_val.get(card2[0], card2[0])\n",
      "    \n",
      "    # get the max card value and min card value\n",
      "    max_val = max(int(card1_val), int(card2_val))\n",
      "    min_val = min(int(card1_val), int(card2_val))\n",
      "    \n",
      "    # get the suits\n",
      "    card1_suit = card1[1]\n",
      "    card2_suit = card2[1]\n",
      "    \n",
      "    # get the symbols for the max and min card\n",
      "    max_card_symbol = val_to_card.get(max_val, str(max_val))\n",
      "    min_card_symbol = val_to_card.get(min_val, str(min_val))\n",
      "    \n",
      "    # return the correct encoding\n",
      "    if max_card_symbol == min_card_symbol:\n",
      "        return max_card_symbol + min_card_symbol\n",
      "    elif card1_suit == card2_suit:\n",
      "        return max_card_symbol + min_card_symbol + 's'\n",
      "    else:\n",
      "        return max_card_symbol + min_card_symbol + 'o'\n"
     ],
     "language": "python",
     "metadata": {},
     "outputs": []
    },
    {
     "cell_type": "code",
     "collapsed": false,
     "input": [
      "empirical_hand_strength = {}\n",
      "\n",
      "players_with_hands = all_player_hands[all_player_hands.c1 != 'XX']\n",
      "\n",
      "players_with_hands['card_key'] = players_with_hands[['c1', 'c2']].apply(cards_to_key, axis = 1)\n",
      "\n",
      "players_with_hands['real_winnings'] = players_with_hands.winnings - players_with_hands.action\n",
      "\n",
      "cards_and_winnings = players_with_hands[['card_key', 'real_winnings']]\n",
      "cards_and_mean_winnings = cards_and_winnings.groupby(by=['card_key'], as_index = False).mean()\n",
      "cards_and_mean_winnings.head()\n",
      "\n",
      "for row_num in xrange(len(cards_and_mean_winnings)):\n",
      "    key = cards_and_mean_winnings.card_key[row_num]\n",
      "    val = cards_and_mean_winnings.real_winnings[row_num]\n",
      "    empirical_hand_strength[key] = val"
     ],
     "language": "python",
     "metadata": {},
     "outputs": []
    },
    {
     "cell_type": "heading",
     "level": 2,
     "metadata": {},
     "source": [
      "Plot Theoretical Values vs. Empirical Values"
     ]
    },
    {
     "cell_type": "code",
     "collapsed": false,
     "input": [
      "hand_keys = theoretical_hand_strength.keys()\n",
      "\n",
      "theoretical_hand_strengths = [theoretical_hand_strength[key] for key in hand_keys]\n",
      "empirical_hand_strengths = [empirical_hand_strength[key] for key in hand_keys]\n",
      "\n",
      "plt.scatter(theoretical_hand_strengths, empirical_hand_strengths)\n",
      "for i in xrange(len(hand_keys)):\n",
      "    plt.annotate(hand_keys[i], xy = (theoretical_hand_strengths[i], empirical_hand_strengths[i]), fontsize=14)\n",
      "fig = plt.gcf()\n",
      "fig.set_size_inches(10.5,10.5)\n",
      "nice_graph('Theoretical Strength', 'Average Profit', 'Empirical vs. Theoretical Strength of Hands')\n",
      "plt.axis([0,.34,-20,80])\n",
      "plt.show()\n"
     ],
     "language": "python",
     "metadata": {},
     "outputs": []
    },
    {
     "cell_type": "markdown",
     "metadata": {},
     "source": [
      "From the graph, it appears that only AA and KK really separate themselves from the other hands.  That is, AA and KK have an extremely high average profit and theoretical strength.  This makes sense because AA and KK are the strongest hands that a player can play.  As expected, we see that average profit of a hand seems to be proportional to the theoretical strength of the hand.  Stronger hands tend to have a higher average profit."
     ]
    },
    {
     "cell_type": "markdown",
     "metadata": {},
     "source": [
      "Another interesting finding is that the hands that most \"outperform\" their strength are hands like 6-7 suited and 8-10 suited. These are hands that can make straights and flushes suggesting that people may underestimate the probability of these being formed, making them willing to call/bet more into hands where there are straight and flush possibilities, and leading to increased profits for these hands.\n",
      "\n",
      "The hands that most underperform are seemd to be hands with one strong card. This is likely because with these hands, even if you make a pair on your one strong card, there's still a decent chance you don't have the best hand because you have a fairly low kicker."
     ]
    },
    {
     "cell_type": "heading",
     "level": 1,
     "metadata": {},
     "source": [
      "Part 3: Player Classification"
     ]
    },
    {
     "cell_type": "markdown",
     "metadata": {},
     "source": [
      "In this section, we cluster players by there playing features, evaluate the profitability of our two groups, and test whether one strategy is significantly more successful than another."
     ]
    },
    {
     "cell_type": "heading",
     "level": 3,
     "metadata": {},
     "source": [
      "Define Constants/Helper Functions/DataFrames Relevant to this Section"
     ]
    },
    {
     "cell_type": "markdown",
     "metadata": {},
     "source": [
      "Constants"
     ]
    },
    {
     "cell_type": "code",
     "collapsed": false,
     "input": [
      "\n",
      "\n",
      "# number of clusters used in kmeans analysis\n",
      "NUM_K_MEANS_CLUSTERS = 2\n",
      "\n",
      "# Cluster Names\n",
      "CLUSTER_NAMES = [\"aggressive\", \"passive\"]\n",
      "\n",
      "# number of clusters used in hac analysis\n",
      "NUM_HAC_CLUSTERS = 2\n",
      "\n",
      "# range of number of players that could be playing at a given time\n",
      "TABLE_SIZES =  xrange(2, 11)\n",
      "\n",
      "# Minimum number of hands any player analysed plays in the dataset\n",
      "MIN_NUM_HANDS = 10\n",
      "\n",
      "# Confidence level\n",
      "T_TEST_SIG_LVL = 0.15\n",
      "\n",
      "NUM_PCA_COMPS = 2\n",
      "\n",
      "# Player intermediary columns\n",
      "PLAYER_QUALITIES_COLUMNS = [\"player\", \"hands\", \"showdown\", \"post_flop\", \"positive\", \"zero\", \"neg\", \\\n",
      "                            \"winnings\", \"aggression\", \"prflop_folds\", \"prflop_raises\"]\n"
     ],
     "language": "python",
     "metadata": {},
     "outputs": []
    },
    {
     "cell_type": "heading",
     "level": 2,
     "metadata": {},
     "source": [
      "3.1: Clustering"
     ]
    },
    {
     "cell_type": "heading",
     "level": 4,
     "metadata": {},
     "source": [
      "In this section, we try three clustering/dimensionality reduction algorithms (i.e. K-Means, PCA, HAC) to cluster our data"
     ]
    },
    {
     "cell_type": "heading",
     "level": 3,
     "metadata": {},
     "source": [
      "3.1.1: K-Means"
     ]
    },
    {
     "cell_type": "code",
     "collapsed": false,
     "input": [
      "\"\"\"\n",
      "Input: K-means clusters\n",
      "Output: Mapping of labels to readable names\n",
      "\"\"\"\n",
      "def convert_labels_to_names(l):\n",
      "    # Determing whether players are aggressive \n",
      "    # get clusters and ids\n",
      "    l = [(idx, el) for idx, el in enumerate(k_means.cluster_centers_)]\n",
      "    # sort clusters by aggression\n",
      "    sort_by_aggression = sorted(l, key=lambda x: x[1][4], reverse=True)\n",
      "    # map cluster id to name\n",
      "    mapping = {el[0] : CLUSTER_NAMES[idx] for idx, el in enumerate(sort_by_aggression)}\n",
      "    return map(lambda x: mapping[x], k_means.labels_)"
     ],
     "language": "python",
     "metadata": {},
     "outputs": []
    },
    {
     "cell_type": "code",
     "collapsed": false,
     "input": [
      "# Update the feature table to include cluster names and labeling\n",
      "k_means = cluster.KMeans(NUM_K_MEANS_CLUSTERS)\n",
      "num_p_to_centers = {i : [] for i in TABLE_SIZE}\n",
      "for key, value in player_features.iteritems():\n",
      "    k_means.fit(value[FEATURES])\n",
      "    tmp = value\n",
      "    tmp[\"cluster\"] = k_means.labels_\n",
      "    tmp[\"label\"] = convert_labels_to_names(k_means.labels_)\n",
      "    player_features[key] = tmp\n",
      "    num_p_to_centers[key] = k_means.cluster_centers_\n",
      "\n",
      "# Print different reports depending on whether information is being run for all \n",
      "# table sizes or just one\n",
      "if NUM_PLAYERS == \"*\":\n",
      "    for key, value in player_features.iteritems():\n",
      "        print \"Passive\"\n",
      "        pp.pprint(value[value[\"label\"] == \"passive\"].head(n=2)) \n",
      "        print \"Aggressive\"\n",
      "        pp.pprint(value[value[\"label\"] == \"aggressive\"].head(n=2))  \n",
      "        print \"Centers\"\n",
      "        pp.pprint(num_p_to_centers)\n",
      "else:\n",
      "    print \"Passive\"\n",
      "    pp.pprint(player_features[NUM_PLAYERS][player_features[NUM_PLAYERS][\"label\"] == \"passive\"].head(n=2)) \n",
      "    print\n",
      "    print \"Aggressive\"\n",
      "    pp.pprint(player_features[NUM_PLAYERS][player_features[NUM_PLAYERS][\"label\"] == \"aggressive\"].head(n=2))\n",
      "    print\n",
      "    print \"Centers\"\n",
      "    pp.pprint(num_p_to_centers[NUM_PLAYERS])\n"
     ],
     "language": "python",
     "metadata": {},
     "outputs": []
    },
    {
     "cell_type": "markdown",
     "metadata": {},
     "source": [
      "The cluster centers tell us that players are mainly differentiable by aggression factor and preflop raise percentage.  That is, there appears to be a more aggressive class of players and a more passive class of players.  The aggressive players and passive players play a similar number of hands, but the aggressive players tend to bet and raise more often.  The aggressive players also tend to have a slightly higher winrate than the passive players."
     ]
    },
    {
     "cell_type": "code",
     "collapsed": false,
     "input": [
      "# Get all pairs of features and examine how differenciated our clusters are\n",
      "for key, value in player_features.iteritems():\n",
      "    if NUM_PLAYERS != \"*\":\n",
      "        if key != NUM_PLAYERS:\n",
      "            continue\n",
      "    l = filter(lambda x: x != \"player\" and x != \"cluster\" and x != \"label\" and x != \"hac_cluster\", value.columns)\n",
      "    l = list(itertools.combinations(l, r=2))\n",
      "    features = map(lambda x: (value[x[0]].tolist(), value[x[1]].tolist()), l)\n",
      "    print(\"Num Players %d: Player Feature Combinations Data Frame (K-Means Cluster)\" % key)\n",
      "    if NUM_PLAYERS == \"*\":\n",
      "        print(\"(Note: Colors and Categories are not nessisarily consistent across different table sizes)\")\n",
      "    matrix_plot(features, [3,4], l, cs=k_means.labels_)\n",
      "    plt.show()"
     ],
     "language": "python",
     "metadata": {},
     "outputs": []
    },
    {
     "cell_type": "heading",
     "level": 3,
     "metadata": {},
     "source": [
      "3.1.2 Hierarchical Agglomerative Clustering"
     ]
    },
    {
     "cell_type": "heading",
     "level": 4,
     "metadata": {},
     "source": [
      "In this section, we use Hierarchical Agglomerative Clustering to cluster our players. This method does not seem to achieve very good separation."
     ]
    },
    {
     "cell_type": "code",
     "collapsed": false,
     "input": [
      "# Update player features dictionary to contain agglomorative clustering\n",
      "for key, value in player_features.iteritems():\n",
      "    hac_classifier = AgglomerativeClustering(n_clusters = NUM_HAC_CLUSTERS, affinity = 'manhattan', linkage = 'average', \\\n",
      "                                                     pooling_func = np.mean)\n",
      "    hac_classifier.fit(value[['VPIP', 'PFR', 'handsWon', 'showdown', 'aggression']])\n",
      "    value[\"hac_cluster\"] = hac_classifier.labels_\n",
      "    player_features[key] = value"
     ],
     "language": "python",
     "metadata": {},
     "outputs": []
    },
    {
     "cell_type": "code",
     "collapsed": false,
     "input": [
      "for key, value in player_features.iteritems():\n",
      "    if NUM_PLAYERS != \"*\":\n",
      "        if key != NUM_PLAYERS:\n",
      "            continue \n",
      "    l = filter(lambda x: x != \"player\" and x != \"cluster\" and x != \"label\" and x != \"hac_cluster\", value.columns)\n",
      "    l = list(itertools.combinations(l, r=2))\n",
      "    features = map(lambda x: (value[x[0]].tolist(), value[x[1]].tolist()), l)\n",
      "    print(\"Num Players %d: Player Feature Combinations Data Frame (HAC_CLUSTER)\" % key)\n",
      "    if NUM_PLAYERS == \"*\":\n",
      "        print(\"(Note: Colors and Categories are not nessisarily consistent across different table sizes)\")\n",
      "    matrix_plot(features, [3,4], l, cs=value[\"hac_cluster\"])\n",
      "    plt.show()"
     ],
     "language": "python",
     "metadata": {},
     "outputs": []
    },
    {
     "cell_type": "heading",
     "level": 3,
     "metadata": {},
     "source": [
      "3.1.3: Principal Component Analysis"
     ]
    },
    {
     "cell_type": "heading",
     "level": 4,
     "metadata": {},
     "source": [
      "In this section, we conduct principal component analysis to identify the two feature vectors that maximizes the differences between the players' playing styles. Our results show that aggression and voluntary put into pot (VPIP), which is similar to proportion of hands played, are the main dimensions that separate playing styles."
     ]
    },
    {
     "cell_type": "code",
     "collapsed": false,
     "input": [
      "for key, value in player_features.iteritems():\n",
      "    if NUM_PLAYERS != \"*\":\n",
      "        if key != NUM_PLAYERS:\n",
      "            continue\n",
      "            \n",
      "    # Training data\n",
      "    X = value.ix[:, 1:-3]\n",
      "\n",
      "    # Compute PCA\n",
      "    svd = sklearn.decomposition.TruncatedSVD(n_components=NUM_PCA_COMPS, random_state=42)\n",
      "    svd.fit(X)\n",
      "\n",
      "    # Project\n",
      "    projections = np.dot(X, np.transpose(svd.components_))\n",
      "\n",
      "    # create DataFrame of principal components\n",
      "    principal_components = pd.DataFrame(columns = value.columns[1:-3])\n",
      "\n",
      "    for i in xrange(NUM_PCA_COMPS):\n",
      "        principal_components.loc[i] = svd.components_[i]\n",
      "    if NUM_PLAYERS == \"*\":\n",
      "        print(\"(Note: Colors and Categories are not nessisarily consistent across different table sizes)\")\n",
      "    # Use k_means labels to plot\n",
      "    matrix_plot([(projections[:,0], projections[:,1])], [5,2], [[\"PC1\", \"PC2\"]], cs=value[\"cluster\"], titles=[\"K Means %d Player Cluster\" % key])\n",
      "    # Use hac labels to plot\n",
      "    matrix_plot([(projections[:,0], projections[:,1])], [5,2], [[\"PC1\", \"PC2\"]], cs=value[\"hac_cluster\"], titles=[\"HAC %d Player Cluster\" % key])\n",
      "    plt.show()\n",
      "    # Show DataFrame of principal components\n",
      "    principal_components.head()"
     ],
     "language": "python",
     "metadata": {},
     "outputs": []
    },
    {
     "cell_type": "heading",
     "level": 2,
     "metadata": {},
     "source": [
      "3.2: Boxplots of PnLs by Cluster (using the K-Means Clusters)"
     ]
    },
    {
     "cell_type": "code",
     "collapsed": false,
     "input": [
      "names_to_cluster = {}\n",
      "\n",
      "for key, value in player_features.iteritems():\n",
      "    names_to_cluster[key] = value[[\"player\", \"cluster\", \"label\"]]"
     ],
     "language": "python",
     "metadata": {},
     "outputs": []
    },
    {
     "cell_type": "code",
     "collapsed": false,
     "input": [
      "for key, value in player_raw.iteritems():\n",
      "    # Determine the average pnl of each player\n",
      "    value[\"avgPnl\"] = value[\"winnings\"] / value[\"hands\"]\n",
      "    player_raw[key] = value"
     ],
     "language": "python",
     "metadata": {},
     "outputs": []
    },
    {
     "cell_type": "code",
     "collapsed": false,
     "input": [
      "for i in TABLE_SIZE:\n",
      "    player_raw[i] = pd.merge(player_raw[i][PLAYER_QUALITIES_COLUMNS + [\"avgPnl\"]], names_to_cluster[i], on=\"player\", how=\"right\")\n",
      "    player_raw[i].drop_duplicates(inplace=True)\n",
      "\n",
      "\n",
      "for key, value in player_raw.iteritems():  \n",
      "    if NUM_PLAYERS != \"*\":\n",
      "        if key != NUM_PLAYERS:\n",
      "            continue\n",
      "    # Determine summary statistics of clusters\n",
      "    print \"Number of Players = %d\" % key\n",
      "    print\n",
      "    print \"Cluster To Type\\n\"\n",
      "    print value.groupby([\"cluster\"]).label.unique()\n",
      "    print  \n",
      "    print \"Relative Size of Clusters\"\n",
      "    print value.groupby([\"label\"]).player.count()\n",
      "    print\n",
      "    print \"Summary Stats by cluster\\n\"\n",
      "    print value.groupby([\"label\"]).mean()\n",
      "    print "
     ],
     "language": "python",
     "metadata": {},
     "outputs": []
    },
    {
     "cell_type": "code",
     "collapsed": false,
     "input": [
      "import seaborn as sns\n",
      "TOGETHER = False\n",
      "\n",
      "# Determine groups\n",
      "box_plots = []\n",
      "full_box_names = []\n",
      "\n",
      "aggressive_box_plots = []\n",
      "full_box_names_aggressive = []\n",
      "passive_box_plots = []\n",
      "full_box_names_passive = []\n",
      "\n",
      "for key, value in num_p_to_centers.iteritems():\n",
      "    sub = player_raw[key][[\"avgPnl\", \"cluster\", \"label\"]]\n",
      "    for i in CLUSTER_NAMES:\n",
      "        desired = sub[sub.label == i]\n",
      "        box_plots.append(desired.avgPnl.tolist())\n",
      "        full_box_names.append((desired.label.tolist()[0] + \" %d\" % key))\n",
      "        if i == \"aggressive\":\n",
      "            aggressive_box_plots.append(desired.avgPnl.tolist())\n",
      "            full_box_names_aggressive.append((desired.label.tolist()[0] + \" %d\" % key))\n",
      "        elif i == \"passive\":\n",
      "            passive_box_plots.append(desired.avgPnl.tolist())\n",
      "            full_box_names_passive.append((desired.label.tolist()[0] + \" %d\" % key))\n",
      "            \n",
      "# Plot aggressive and passive side-by-side on one graph\n",
      "if TOGETHER: \n",
      "    sns.set()\n",
      "    sns.set_context(\"notebook\") \n",
      "    plt.figure(figsize=(30, 12))\n",
      "    sns.boxplot(box_plots, names=full_box_names)\n",
      "    plt.xticks(rotation=70, fontsize=20)\n",
      "    plt.yticks(fontsize=20)\n",
      "    plt.ylim([-50, 50])\n",
      "    plt.title(\"Boxplot of Aggressive vs Passive Players\", fontsize=20)\n",
      "    plt.show()\n",
      "# plot aggressive and passive seprately\n",
      "else:\n",
      "    sns.set()\n",
      "    sns.set_context(\"notebook\") \n",
      "    plt.figure(figsize=(30, 12))\n",
      "    sns.boxplot(aggressive_box_plots, names=full_box_names_aggressive)\n",
      "    plt.xticks(rotation=70, fontsize=20)\n",
      "    plt.yticks(fontsize=20)\n",
      "    plt.ylim([-50, 50])\n",
      "    plt.title(\"Boxplot of Aggressive Players\", fontsize=20)\n",
      "    plt.ylabel(\"Profit\")\n",
      "    plt.show()\n",
      "    plt.figure(figsize=(30, 12))\n",
      "    sns.boxplot(passive_box_plots, names=full_box_names_passive)\n",
      "    plt.xticks(rotation=70, fontsize=20)\n",
      "    plt.yticks(fontsize=20)\n",
      "    plt.ylim([-50, 50])\n",
      "    plt.title(\"Boxplot of Passive Players\", fontsize=20)\n",
      "    plt.ylabel(\"Profit\")\n",
      "    plt.show()"
     ],
     "language": "python",
     "metadata": {},
     "outputs": []
    },
    {
     "cell_type": "markdown",
     "metadata": {},
     "source": [
      "Based on the cluster distrobutions above, we can see that there is more variability between the aggressive clusters than there is between the passive clusters. We believe the limited availability of aggressive players explains this variability. Despite the variability between aggressive clusters, within the aggressive groups their appear to be fewer outliers with respecrt to profit at a give table size. This could be because being an aggressive player is self selecting since people are typically risk averse. "
     ]
    },
    {
     "cell_type": "heading",
     "level": 2,
     "metadata": {},
     "source": [
      "3.3: Trends with Number of Players"
     ]
    },
    {
     "cell_type": "code",
     "collapsed": false,
     "input": [
      "# Reset data\n",
      "hand_raw = init_data()\n",
      "print_head(hand_raw)"
     ],
     "language": "python",
     "metadata": {},
     "outputs": []
    },
    {
     "cell_type": "code",
     "collapsed": false,
     "input": [
      "for i in TABLE_SIZE:\n",
      "    hand_raw[i] = pd.merge(hand_raw[i][RAW_COLUMNS], names_to_cluster[i], on=\"player\", how=\"right\")\n",
      "    hand_raw[i].drop_duplicates(inplace=True)\n",
      "    \n",
      "print_head(hand_raw)"
     ],
     "language": "python",
     "metadata": {},
     "outputs": []
    },
    {
     "cell_type": "markdown",
     "metadata": {},
     "source": [
      "Per Player Statistics"
     ]
    },
    {
     "cell_type": "code",
     "collapsed": false,
     "input": [
      "\"\"\"\n",
      "Inputs: DataFrame Corresponding to 1 player\n",
      "Output: Mean Profit Per Hand\n",
      "\"\"\"\n",
      "def avg_pnl(df):\n",
      "    df[\"net\"]  = df.winnings - df.action\n",
      "    num_hands = len(df)\n",
      "    net_profit = df.sum().net\n",
      "    return float(net_profit) / num_hands\n",
      "\n",
      "\"\"\"\n",
      "Inputs: DataFrame Corresponding to 1 player\n",
      "Output: Median Profit\n",
      "\"\"\"\n",
      "def med_pnl(df):\n",
      "    df[\"net\"]  = df.winnings - df.action\n",
      "    return float(df.net.median())\n",
      "\n",
      "\n",
      "\"\"\"\n",
      "Inputs: DataFrame Corresponding to 1 player\n",
      "output: Variance of Profit\n",
      "\"\"\"\n",
      "def var_pnl(df):\n",
      "    df[\"net\"]  = df.winnings - df.action\n",
      "    return float(df.net.var())\n"
     ],
     "language": "python",
     "metadata": {},
     "outputs": []
    },
    {
     "cell_type": "markdown",
     "metadata": {},
     "source": [
      "Per Cluster Statistics"
     ]
    },
    {
     "cell_type": "code",
     "collapsed": false,
     "input": [
      "\"\"\"\n",
      "Input: List of tuples (x, y), function applied to data, figure size, bool scatter plots together or sperately\n",
      "Output: Graph showing x vs y and best fit\n",
      "\"\"\"\n",
      "def plot_stats_per_cluster(l, titles, function_name, fig_size=(10,8), together=True):\n",
      "    if together:\n",
      "        fg = plt.figure(figsize=fig_size)\n",
      "        legend_params = [[], []]\n",
      "        be, = plt.plot(xrange(2,11),[0]*9,'b--')\n",
      "        legend_params[0].append(be)\n",
      "        legend_params[1].append(\"break even\")\n",
      "        c = [\"b\", \"g\", \"r\", \"black\", \"y\", \"orange\"]\n",
      "        for idx,(x,y) in enumerate(l):\n",
      "            plt.scatter(x,y, c=c[idx], alpha=.5)\n",
      "            p = np.polyfit(x,y,1)\n",
      "            y_hat = map(lambda i: p[0]*i+p[1], x)\n",
      "            bf, = plt.plot(x,y_hat,c[idx] + '-')\n",
      "            legend_params[0].append(bf)\n",
      "            legend_params[1].append(titles[idx])\n",
      "        fg.legend(tuple(legend_params[0]), tuple(legend_params[1]), \"upper right\")\n",
      "        x_ax = \"Number of Players\"\n",
      "        title = x_ax + \" vs \" + function_name \n",
      "        nice_graph(x_ax, function_name, title)\n",
      "        plt.show()\n",
      "    else:\n",
      "        matrix_plot(l, [NUM_K_MEANS_CLUSTERS,1], [(\"num_players\", function_name) for i in R], plotBestFit=True, titles=titles,fig_size=fig_size)\n",
      "        \n",
      "\"\"\"\n",
      "Input: Dictionary, {Cluster : (Number of Players, Mean(Map(Function, All Players In Given Cluster)))}, function applied \n",
      "Output: Graph showing each of the clusters performance against each other\n",
      "\"\"\"\n",
      "def plot_cluster_performance(dct, function_name):\n",
      "    lst_averages = []\n",
      "    titles = []\n",
      "    for key, value in dct.iteritems():\n",
      "        lst_averages.append(value)\n",
      "        titles.append(key)\n",
      "    plot_stats_per_cluster(lst_averages, titles, function_name)"
     ],
     "language": "python",
     "metadata": {},
     "outputs": []
    },
    {
     "cell_type": "code",
     "collapsed": false,
     "input": [
      "\"\"\"\n",
      "Input: DataFrame for a given table size, Names of Clusters, function: Player DataFrame -> Value\n",
      "Output: Dictionary, {Cluster : Map(Function, All Players In Given Cluster)}\n",
      "\"\"\"\n",
      "def stats_per_cluster(df, clusters, f):\n",
      "        d = {x : [] for x in clusters}\n",
      "        tmp = df.groupby(\"player\")\n",
      "        for idx, p in tmp:\n",
      "            d[p.label.values[0]].append(f(p))\n",
      "        return d\n",
      "\n",
      "\"\"\"\n",
      "Input: function: DataFrame, Player DataFrame -> Value\n",
      "Output: Dictionary, {Cluster : (Number of Players, Mean(Map(Function, All Players In Given Cluster)))}\n",
      "\"\"\"\n",
      "def get_averages_per_cluster(df, f):\n",
      "    averages_per_cluster = {x: ([], []) for x in CLUSTER_NAMES}\n",
      "    for key, value in df.iteritems():\n",
      "        cluster_to_stat = stats_per_cluster(value, CLUSTER_NAMES, f)\n",
      "        for clust, stats in cluster_to_stat.iteritems():\n",
      "            averages_per_cluster[clust][0].append(key)\n",
      "            averages_per_cluster[clust][1].append(np.mean(stats)) \n",
      "    return averages_per_cluster"
     ],
     "language": "python",
     "metadata": {},
     "outputs": []
    },
    {
     "cell_type": "code",
     "collapsed": false,
     "input": [
      "plot_cluster_performance(get_averages_per_cluster(hand_raw, avg_pnl), \"Average Profit and Loss\")"
     ],
     "language": "python",
     "metadata": {},
     "outputs": []
    },
    {
     "cell_type": "markdown",
     "metadata": {},
     "source": [
      "This trend shows that both players who are aggressive and passive tend to have rising average profits when table sizes increase. This is expected because as the table size increases the pot size also increases from additional bets. What is more interesting is that aggressive player increas their average profitability more quickly. This shows that an aggressive startegy may get better when the aggressive player can win larger pots to offset small intervening losses. "
     ]
    },
    {
     "cell_type": "code",
     "collapsed": false,
     "input": [
      "plot_cluster_performance(get_averages_per_cluster(hand_raw, med_pnl), \"Median Profit and Loss\")"
     ],
     "language": "python",
     "metadata": {},
     "outputs": []
    },
    {
     "cell_type": "markdown",
     "metadata": {},
     "source": [
      "The median PnL for passive players is expected. Passive players check and call more than they bet and raise so their median is within one half of the big blind and the big blind. The highly negative median for aggressive players is interesting because it indicates that aggressive players are more willing to loose a large number of hands for big wins that will compensate for frequent small losses.  "
     ]
    },
    {
     "cell_type": "code",
     "collapsed": false,
     "input": [
      "plot_cluster_performance(get_averages_per_cluster(hand_raw, var_pnl), \"Variance of Profit and Loss\")"
     ],
     "language": "python",
     "metadata": {},
     "outputs": []
    },
    {
     "cell_type": "markdown",
     "metadata": {},
     "source": [
      "Based on the summary chart above, we can see that the variance across all table sizes for aggressive players is consistently higher than it is for passive players. This makes sense based on what has been shown above. Namely as the aggressive player is able to further increase his/her margin of victory when he/she wins a pot with more players. The increased variability is therefore symptomatic of the increased profitability of the aggressive strategy."
     ]
    },
    {
     "cell_type": "heading",
     "level": 2,
     "metadata": {},
     "source": [
      "3.4: T-Test for Aggressive vs. Passive Players"
     ]
    },
    {
     "cell_type": "markdown",
     "metadata": {},
     "source": [
      "Below we conduct a T-test at the 0.15 significance level comparing the average winnings of players in aggressive cluster vs. those of players in the passive cluster."
     ]
    },
    {
     "cell_type": "code",
     "collapsed": false,
     "input": [
      "from scipy.stats import ttest_ind\n",
      "\n",
      "significance_level = 0.15\n",
      "\n",
      "def conduct_t_test(n):\n",
      "    v = hand_raw[n]\n",
      "    v[\"net\"] = v.winnings - v.action\n",
      "    grouped_data = v[['player', 'net', 'label']].groupby(by=['player', 'label'], as_index = False).mean()\n",
      "    grouped_data.drop_duplicates(inplace=True)\n",
      "    aggr_player_data = grouped_data[grouped_data.label == \"aggressive\"]\n",
      "    pass_player_data = grouped_data[grouped_data.label == \"passive\"]\n",
      "    return ttest_ind(aggr_player_data.net, pass_player_data.net, equal_var = False)\n",
      "\n",
      "# DataFrame to store results\n",
      "ttest_results = pd.DataFrame(columns=['num_players', 'test_statistic', 'p-value', 'significant'])\n",
      "curr_row = 0\n",
      "for i in xrange(2, 11):\n",
      "    result = conduct_t_test(i)\n",
      "    \n",
      "    # add in whether significant or not\n",
      "    significant = 'Yes' if result[1] < significance_level else 'No'\n",
      "    entry = [i, result[0], result[1], significant]\n",
      "    \n",
      "    ttest_results.loc[curr_row] = entry\n",
      "    curr_row += 1\n",
      "    \n",
      "ttest_results.head(0)"
     ],
     "language": "python",
     "metadata": {},
     "outputs": []
    },
    {
     "cell_type": "markdown",
     "metadata": {},
     "source": [
      "Our T-test shows a statistically significant difference in the performance of the aggressive and passive clusters at the 0.15 significance level for tables sizes of 4, 6, and 7. The aggressive clusters do significantly better in the tables with 6 and 7 players, whereas the passive players do better in the table with 4 players."
     ]
    },
    {
     "cell_type": "markdown",
     "metadata": {},
     "source": [
      "That said, we don't think that our results are very conclusive. Without further investigation, we have no reason to believe that there are significant differences between playing on a 4, 6, or 7 player table (as opposed to say a 5 person table) that would explain the difference in statistical significance. Furthermore, the fact that differenct clusters performed better in different table sizes lessens the likelihood that one of the styles determined by our clustering is significantly more profitable than the other. "
     ]
    },
    {
     "cell_type": "markdown",
     "metadata": {},
     "source": [
      "To improve the results of our player clustering in the future, we would like to have a better data set that contained more hands, and possibly revealed hands that didn't make it to showdown. That would allow us to have better information about what actually goes on in the rounds. Poker is also a fairly high variance game, and so a large amount of data is necessary even to make conclusive claims. Given more time, it would have also been good for us to test out other possible features for players before running our clustering methods. A better feature space might help separate players of different skill level/style better."
     ]
    },
    {
     "cell_type": "markdown",
     "metadata": {},
     "source": [
      "Although we weren't able to determine whether an aggressive style of play is better or worse than a more passive style, we did see that the use of common techniques like continuation betting and three betting improves players' expected value per hand. That said, we weren't able to analyze whether this was because the strategy itself is inherently profitable, or because the people who are aware of and engage in this strategy may be more skilled poker players. Again, this is an interesting question that given more time, would be a very natural extension to this project."
     ]
    },
    {
     "cell_type": "markdown",
     "metadata": {},
     "source": [
      "Individual results aside, we think that there is potential in using advanced statistical techniques to analyse behaviour in poker games. It involves repreated interactions, where certain circumstances naturally come up again and again, and the actions involved (betting, folding, etc.) are very easy to measure accurately. The fact that our cluster centers were so easy to interpret as \"aggressive\" and \"passive\" clusters shows that there are noticeable player tendencies captured in the data, and although this analysis did not yield very significant results, with greater quantities of more complete data, it is likely that there are interesting insights to be made."
     ]
    },
    {
     "cell_type": "code",
     "collapsed": false,
     "input": [],
     "language": "python",
     "metadata": {},
     "outputs": []
    }
   ],
   "metadata": {}
  }
 ]
}